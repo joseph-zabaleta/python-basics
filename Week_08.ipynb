{
 "cells": [
  {
   "cell_type": "markdown",
   "id": "c37c7c31",
   "metadata": {},
   "source": [
    "# Advanced Topics I: Efficiency"
   ]
  },
  {
   "cell_type": "markdown",
   "id": "989169f7",
   "metadata": {},
   "source": [
    "## List Comprehension"
   ]
  },
  {
   "cell_type": "code",
   "execution_count": 1,
   "id": "4a105513",
   "metadata": {},
   "outputs": [
    {
     "name": "stdout",
     "output_type": "stream",
     "text": [
      "[0, 1, 2, 3, 4, 5, 6, 7, 8, 9, 10, 11, 12, 13, 14, 15, 16, 17, 18, 19, 20, 21, 22, 23, 24, 25, 26, 27, 28, 29, 30, 31, 32, 33, 34, 35, 36, 37, 38, 39, 40, 41, 42, 43, 44, 45, 46, 47, 48, 49, 50, 51, 52, 53, 54, 55, 56, 57, 58, 59, 60, 61, 62, 63, 64, 65, 66, 67, 68, 69, 70, 71, 72, 73, 74, 75, 76, 77, 78, 79, 80, 81, 82, 83, 84, 85, 86, 87, 88, 89, 90, 91, 92, 93, 94, 95, 96, 97, 98, 99]\n"
     ]
    }
   ],
   "source": [
    "# create a list of ten numbers using list comprehension\n",
    "nums = [ x for x in range(100) ]    # generates a list from 0 up to 100\n",
    "print(nums)"
   ]
  },
  {
   "cell_type": "code",
   "execution_count": 2,
   "id": "157756ba",
   "metadata": {},
   "outputs": [
    {
     "name": "stdout",
     "output_type": "stream",
     "text": [
      "[0, 2, 4, 6, 8]\n"
     ]
    }
   ],
   "source": [
    "# using if statements within list comprehension\n",
    "nums = [ x for x in range(10) if x % 2 == 0 ] # generates a list of even numbers up to 10\n",
    "print(nums)"
   ]
  },
  {
   "cell_type": "code",
   "execution_count": 3,
   "id": "e678e27b",
   "metadata": {},
   "outputs": [
    {
     "name": "stdout",
     "output_type": "stream",
     "text": [
      "['Even', 'Odd', 'Even', 'Odd', 'Even', 'Odd', 'Even', 'Odd', 'Even', 'Odd']\n"
     ]
    }
   ],
   "source": [
    "# using if/else statements within list comprehension\n",
    "nums = [ \"Even\" if x % 2 == 0 else \"Odd\" for x in range(10) ]  # generates a list of even/odd strings\n",
    "print(nums)"
   ]
  },
  {
   "cell_type": "code",
   "execution_count": 5,
   "id": "47837030",
   "metadata": {},
   "outputs": [
    {
     "name": "stdout",
     "output_type": "stream",
     "text": [
      "[2, 4, 6, 8]\n",
      "[4, 16, 36, 64]\n"
     ]
    }
   ],
   "source": [
    "# creating a list of squared numbers from another list of numbers using list comprehension\n",
    "nums = [2, 4, 6, 8]\n",
    "squared_nums = [ num**2 for num in nums ] # creates a new list of squared numbers based on nums\n",
    "print(nums)\n",
    "print(squared_nums)"
   ]
  },
  {
   "cell_type": "code",
   "execution_count": 6,
   "id": "d3faeb96",
   "metadata": {},
   "outputs": [
    {
     "name": "stdout",
     "output_type": "stream",
     "text": [
      "{0: 0, 2: 4, 4: 16, 6: 36, 8: 64}\n"
     ]
    }
   ],
   "source": [
    "# creating a dictionary of even numbers and square values using comprehension\n",
    "numbers = [ x for x in range(10) ]\n",
    "squares = { num : num**2 for num in numbers if num % 2 == 0 }\n",
    "print(squares)"
   ]
  },
  {
   "cell_type": "markdown",
   "id": "4ae6e840",
   "metadata": {},
   "source": [
    "## Lambda Functions"
   ]
  },
  {
   "cell_type": "code",
   "execution_count": 7,
   "id": "0bf5c255",
   "metadata": {},
   "outputs": [
    {
     "data": {
      "text/plain": [
       "16"
      ]
     },
     "execution_count": 7,
     "metadata": {},
     "output_type": "execute_result"
    }
   ],
   "source": [
    "# using a lambda to square a number\n",
    "( lambda x : x**2)(4)  # takes in 4 and returns the number squared"
   ]
  },
  {
   "cell_type": "code",
   "execution_count": 8,
   "id": "59554a43",
   "metadata": {},
   "outputs": [
    {
     "data": {
      "text/plain": [
       "50"
      ]
     },
     "execution_count": 8,
     "metadata": {},
     "output_type": "execute_result"
    }
   ],
   "source": [
    "# passing in multiple arguments into a lambda\n",
    "( lambda x, y : x * y ) (10, 5)  # x = 10, y = 5 and returns the result of 5 * 10"
   ]
  },
  {
   "cell_type": "code",
   "execution_count": 9,
   "id": "dd2c13f0",
   "metadata": {},
   "outputs": [
    {
     "name": "stdout",
     "output_type": "stream",
     "text": [
      "<function <lambda> at 0x00000192DBA0A4C0>\n",
      "50\n"
     ]
    }
   ],
   "source": [
    "# saving a lambda function into a variable\n",
    "square = lambda x, y : x * y\n",
    "print(square)\n",
    "\n",
    "result = square(10, 5)  # calls the lambda function stored in the square variable and returns 5 * 10\n",
    "\n",
    "print(result)"
   ]
  },
  {
   "cell_type": "code",
   "execution_count": 10,
   "id": "8ea5b6a2",
   "metadata": {},
   "outputs": [
    {
     "name": "stdout",
     "output_type": "stream",
     "text": [
      "10\n"
     ]
    }
   ],
   "source": [
    "# using if/else statements with a lambda to return the greater number\n",
    "greater = lambda x, y : x if x > y else y\n",
    "result = greater(5, 10)\n",
    "print(result)"
   ]
  },
  {
   "cell_type": "code",
   "execution_count": 11,
   "id": "fd254312",
   "metadata": {},
   "outputs": [
    {
     "name": "stdout",
     "output_type": "stream",
     "text": [
      "10\n",
      "15\n"
     ]
    }
   ],
   "source": [
    "# returning a lambda function from another function\n",
    "def my_func(n):\n",
    "    return lambda x : x * n\n",
    "\n",
    "doubler = my_func(2)  # returns equivalent of lambda x : x * 2\n",
    "print( doubler(5) )   # will output 10\n",
    "\n",
    "tripler = my_func(3)  # returns equivalent of lambda x : x * 3\n",
    "print( tripler(5) )   # will output 15\n",
    "\n"
   ]
  },
  {
   "cell_type": "markdown",
   "id": "2f73fd2a",
   "metadata": {},
   "source": [
    "## Map, Filter, and Reduce"
   ]
  },
  {
   "cell_type": "code",
   "execution_count": 14,
   "id": "a4c9a68f",
   "metadata": {},
   "outputs": [
    {
     "name": "stdout",
     "output_type": "stream",
     "text": [
      "<map object at 0x00000192DBA2F460>\n",
      "[54.5, 56.480000000000004, 59.0, 48.56]\n"
     ]
    }
   ],
   "source": [
    "# using the map function without lambdas\n",
    "def convertDeg(C):\n",
    "    return (9/5) * C + 32\n",
    "\n",
    "temps = [ 12.5, 13.6, 15, 9.2 ]\n",
    "\n",
    "converted_temps = map(convertDeg, temps) # returns map object\n",
    "print(converted_temps)\n",
    "\n",
    "converted_temps = list(converted_temps)  # type convert map object into list of converted temps\n",
    "print(converted_temps)\n"
   ]
  },
  {
   "cell_type": "code",
   "execution_count": 15,
   "id": "953fe1c3",
   "metadata": {},
   "outputs": [
    {
     "name": "stdout",
     "output_type": "stream",
     "text": [
      "[54.5, 56.480000000000004, 59.0, 48.56]\n"
     ]
    }
   ],
   "source": [
    "# using a map function with lambdas\n",
    "temps = [12.5, 13.6, 15, 9.2]\n",
    "converted_temps = list( map( lambda C : (9/5) * C + 32, temps ) ) # type convert the map object right away\n",
    "print(converted_temps)"
   ]
  },
  {
   "cell_type": "code",
   "execution_count": 16,
   "id": "e4baf60c",
   "metadata": {},
   "outputs": [
    {
     "name": "stdout",
     "output_type": "stream",
     "text": [
      "<filter object at 0x00000192DBA2F040>\n",
      "[13.6, 15]\n"
     ]
    }
   ],
   "source": [
    "# using the filter function without lambda functions, filter out temps below 55F\n",
    "\n",
    "def filterTemps(C):\n",
    "    converted = (9/5) * C + 32\n",
    "    return True if converted > 55 else False  # use ternary operator\n",
    "\n",
    "temps = [ 12.5, 13.6, 15, 9.2 ] \n",
    "\n",
    "filtered_temps = filter(filterTemps, temps) # returns filter object\n",
    "print(filtered_temps)\n",
    "\n",
    "filtered_temps = list(filtered_temps)  # converts filter object to list of filtered data\n",
    "print(filtered_temps)"
   ]
  },
  {
   "cell_type": "code",
   "execution_count": 17,
   "id": "d54322ba",
   "metadata": {},
   "outputs": [
    {
     "name": "stdout",
     "output_type": "stream",
     "text": [
      "[13.6, 15]\n"
     ]
    }
   ],
   "source": [
    "# using the filter function with lambda functions, filter out temps below 55F\n",
    "\n",
    "temps = [ 12.5, 13.6, 15, 9.2 ]\n",
    "filtered_temps = list( filter( lambda C : True if (9/5) * C + 32 > 55 else False, temps ) ) # type convert the filter\n",
    "print(filtered_temps)"
   ]
  },
  {
   "cell_type": "code",
   "execution_count": 18,
   "id": "64729a66",
   "metadata": {},
   "outputs": [
    {
     "name": "stdout",
     "output_type": "stream",
     "text": [
      "24\n"
     ]
    }
   ],
   "source": [
    "# for informational purposes this is how you use the reduce function\n",
    "from functools import reduce\n",
    "\n",
    "nums = [ 1, 2, 3, 4 ]\n",
    "result = reduce( lambda a, b : a * b, nums ) # result is 24\n",
    "print(result)"
   ]
  },
  {
   "cell_type": "markdown",
   "id": "b1f6f5ba",
   "metadata": {},
   "source": [
    "## Recursive Functions and Memoization"
   ]
  },
  {
   "cell_type": "code",
   "execution_count": 19,
   "id": "d94c4043",
   "metadata": {},
   "outputs": [
    {
     "name": "stdout",
     "output_type": "stream",
     "text": [
      "120\n"
     ]
    }
   ],
   "source": [
    "# writing a factorial using recursive functions\n",
    "def factorial(n):\n",
    "    # set your base case!\n",
    "    if n <= 1:\n",
    "        return 1\n",
    "    else:\n",
    "        return factorial(n - 1) * n\n",
    "\n",
    "print( factorial(5) )  # the result of 5 * 4 * 3 * 2 * 1"
   ]
  },
  {
   "cell_type": "code",
   "execution_count": 23,
   "id": "a532be2a",
   "metadata": {},
   "outputs": [
    {
     "name": "stdout",
     "output_type": "stream",
     "text": [
      "5\n"
     ]
    }
   ],
   "source": [
    "# writing the recursive fibonacci sequence\n",
    "def fib(n):\n",
    "    if n <= 1:\n",
    "        return n\n",
    "    else:\n",
    "        return fib( n - 1 ) + fib( n - 2)\n",
    "\n",
    "print( fib(5) )  # results in 5"
   ]
  },
  {
   "cell_type": "code",
   "execution_count": 21,
   "id": "0a5753f1",
   "metadata": {},
   "outputs": [
    {
     "name": "stdout",
     "output_type": "stream",
     "text": [
      "12586269025\n"
     ]
    }
   ],
   "source": [
    "# using memoization with the fibonacci sequence\n",
    "cache = {}  # used to cache values to be used later\n",
    "def fib(n):\n",
    "    if n in cache:\n",
    "        return cache[n]  # return value stored in dictionary\n",
    "    \n",
    "    result = 0\n",
    "    \n",
    "    # base case\n",
    "    if n <= 1:\n",
    "        result = n\n",
    "    else:\n",
    "        result = fib( n - 1) + fib( n - 2 )\n",
    "    \n",
    "    cache[n] = result  # save result into dictionary with n as they key\n",
    "    \n",
    "    return result\n",
    "\n",
    "print( fib(50) )  # calculates almost instantly"
   ]
  },
  {
   "cell_type": "code",
   "execution_count": 25,
   "id": "97f16e3d",
   "metadata": {},
   "outputs": [
    {
     "name": "stdout",
     "output_type": "stream",
     "text": [
      "354224848179261915075\n"
     ]
    }
   ],
   "source": [
    "# using @lru_cache, Python's default moization/caching technique\n",
    "from functools import lru_cache\n",
    "\n",
    "@lru_cache()  # python's built-in memoization/caching system\n",
    "\n",
    "def fib(n):\n",
    "    if n <= 1:\n",
    "        return n\n",
    "    else:\n",
    "        return fib( n - 1 ) + fib( n - 2 )\n",
    "\n",
    "print(fib(100))  # calculates almost instantly"
   ]
  },
  {
   "cell_type": "markdown",
   "id": "c8f696f1",
   "metadata": {},
   "source": [
    "## Project: Writing a Binary Search"
   ]
  },
  {
   "cell_type": "code",
   "execution_count": 31,
   "id": "503e3246",
   "metadata": {},
   "outputs": [
    {
     "name": "stdout",
     "output_type": "stream",
     "text": [
      "[0, 0, 1, 1, 1, 3, 3, 5, 10, 19]\n",
      "True\n"
     ]
    }
   ],
   "source": [
    "# setting up imports and generating a list of random numbers to work with\n",
    "import random\n",
    "\n",
    "nums = [ random.randint(0, 20) for i in range(10) ] # create a list of ten numbers between 0 and 20\n",
    "\n",
    "def binarySearch(aList, num):\n",
    "\n",
    "    aList.sort()\n",
    "    \n",
    "    \n",
    "    while aList:\n",
    "        mid = len(aList) // 2 \n",
    "        \n",
    "        if aList[mid] == num:\n",
    "            return True\n",
    "        elif aList[mid] > num:\n",
    "            aList = aList[:mid]\n",
    "        elif aList[mid] < num:\n",
    "            aList = aList[mid + 1 :]\n",
    "    \n",
    "    return False\n",
    "\n",
    "print( sorted(nums) )\n",
    "print( binarySearch(nums, 3) )"
   ]
  },
  {
   "cell_type": "code",
   "execution_count": null,
   "id": "c7dc6cc4",
   "metadata": {},
   "outputs": [],
   "source": []
  }
 ],
 "metadata": {
  "kernelspec": {
   "display_name": "Python 3",
   "language": "python",
   "name": "python3"
  },
  "language_info": {
   "codemirror_mode": {
    "name": "ipython",
    "version": 3
   },
   "file_extension": ".py",
   "mimetype": "text/x-python",
   "name": "python",
   "nbconvert_exporter": "python",
   "pygments_lexer": "ipython3",
   "version": "3.8.8"
  }
 },
 "nbformat": 4,
 "nbformat_minor": 5
}
