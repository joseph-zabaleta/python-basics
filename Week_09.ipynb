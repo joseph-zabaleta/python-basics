{
 "cells": [
  {
   "cell_type": "markdown",
   "id": "b8ad4aed",
   "metadata": {},
   "source": [
    "# Advanced Topics II: Complexity"
   ]
  },
  {
   "cell_type": "markdown",
   "id": "72a9ee87",
   "metadata": {},
   "source": [
    "## Generators and Iterators"
   ]
  },
  {
   "cell_type": "code",
   "execution_count": 2,
   "id": "141dd9af",
   "metadata": {},
   "outputs": [
    {
     "name": "stdout",
     "output_type": "stream",
     "text": [
      "baseball\n",
      "soccer\n",
      "football\n",
      "hockey\n",
      "basketball\n"
     ]
    }
   ],
   "source": [
    "# creating a basic iterator from an iterable\n",
    "sports = [ \"baseball\", \"soccer\", \"football\", \"hockey\", \"basketball\" ]\n",
    "\n",
    "my_iter = iter(sports)\n",
    "\n",
    "print( next(my_iter) ) # outputs first item\n",
    "print( next(my_iter) ) # outputs second item\n",
    "\n",
    "for item in my_iter:\n",
    "    print(item)\n",
    "\n",
    " # print( next(my_iter) )  # will produce error"
   ]
  },
  {
   "cell_type": "code",
   "execution_count": 3,
   "id": "4f3e7b97",
   "metadata": {},
   "outputs": [
    {
     "name": "stdout",
     "output_type": "stream",
     "text": [
      "a\n",
      "b\n",
      "c\n",
      "d\n",
      "e\n",
      "f\n",
      "g\n",
      "h\n",
      "i\n",
      "j\n",
      "k\n",
      "l\n",
      "m\n",
      "n\n",
      "o\n",
      "p\n",
      "q\n",
      "r\n",
      "s\n",
      "t\n",
      "u\n",
      "v\n",
      "w\n",
      "x\n",
      "y\n",
      "z\n"
     ]
    }
   ],
   "source": [
    "# creating our own iterator\n",
    "\n",
    "class Alphabet:\n",
    "    def __iter__(self):\n",
    "        self.letters = \"abcdefghijklmnopqrstuvwxyz\"\n",
    "        self.index = 0\n",
    "        return self\n",
    "    \n",
    "    def __next__(self):\n",
    "        if self.index <= 25:\n",
    "            char = self.letters[ self.index ]\n",
    "            self.index += 1\n",
    "            return char\n",
    "        else:\n",
    "            raise StopIteration\n",
    "\n",
    "for char in Alphabet():\n",
    "    print(char)"
   ]
  },
  {
   "cell_type": "code",
   "execution_count": 4,
   "id": "e552c3cd",
   "metadata": {},
   "outputs": [
    {
     "name": "stdout",
     "output_type": "stream",
     "text": [
      "Generator Start Value: 0\n",
      "For Loop X Value: 0\n",
      "Generator Start Value: 1\n",
      "For Loop X Value: 1\n",
      "Generator Start Value: 2\n",
      "For Loop X Value: 2\n",
      "Generator Start Value: 3\n",
      "For Loop X Value: 3\n",
      "Generator Start Value: 4\n",
      "For Loop X Value: 4\n"
     ]
    }
   ],
   "source": [
    "# creating our own range generator with start, stop, and step parameters\n",
    "\n",
    "def myRange(stop, start=0, step=1):\n",
    "    while start < stop:\n",
    "        print(\"Generator Start Value: {}\".format(start))\n",
    "        yield start\n",
    "        start += step  # increment start, otherwise infinite loop\n",
    "        \n",
    "for x in myRange(5):\n",
    "    print(\"For Loop X Value: {}\".format(x))"
   ]
  },
  {
   "cell_type": "markdown",
   "id": "8bdebe75",
   "metadata": {},
   "source": [
    "## Decorators"
   ]
  },
  {
   "cell_type": "code",
   "execution_count": 5,
   "id": "68090fd0",
   "metadata": {},
   "outputs": [
    {
     "name": "stdout",
     "output_type": "stream",
     "text": [
      "=====\n",
      "John!\n",
      "=====\n"
     ]
    }
   ],
   "source": [
    "# creating and applying our own decorator using the @ symbol\n",
    "\n",
    "def decorator(func):\n",
    "    def wrap():\n",
    "        print(\"=====\")\n",
    "        func()\n",
    "        print(\"=====\")\n",
    "    \n",
    "    return wrap\n",
    "\n",
    "\n",
    "@decorator\n",
    "def printName():\n",
    "    print(\"John!\")\n",
    "\n",
    "printName()"
   ]
  },
  {
   "cell_type": "code",
   "execution_count": 6,
   "id": "3c92d6cf",
   "metadata": {},
   "outputs": [
    {
     "name": "stdout",
     "output_type": "stream",
     "text": [
      "Hello!\n",
      "Hello!\n",
      "Hello!\n",
      "Hello!\n"
     ]
    }
   ],
   "source": [
    "# creating a decorator that takes in parameters\n",
    "\n",
    "def run_times(num):\n",
    "    def wrap(func):\n",
    "        for i in range(num):\n",
    "            func()\n",
    "    \n",
    "    return wrap\n",
    "\n",
    "@run_times(4)\n",
    "def sayHello():\n",
    "    print(\"Hello!\")\n"
   ]
  },
  {
   "cell_type": "code",
   "execution_count": 8,
   "id": "d6658c04",
   "metadata": {},
   "outputs": [
    {
     "name": "stdout",
     "output_type": "stream",
     "text": [
      "Happy birthday Paul, you are now 44.\n"
     ]
    }
   ],
   "source": [
    "# creating a decorator for a function that accepts parameters\n",
    "\n",
    "def birthday(func):\n",
    "    def wrap(name, age):\n",
    "        func(name, age + 1)\n",
    "    \n",
    "    return wrap\n",
    "\n",
    "@birthday\n",
    "def celebrate(name, age):\n",
    "    print(\"Happy birthday {}, you are now {}.\".format(name, age))\n",
    "    \n",
    "celebrate(\"Paul\", 43)"
   ]
  },
  {
   "cell_type": "code",
   "execution_count": 11,
   "id": "994f78e7",
   "metadata": {},
   "outputs": [
    {
     "name": "stdout",
     "output_type": "stream",
     "text": [
      "What is the password? ilywpf\n",
      "Access granted, welcome Jess\n"
     ]
    }
   ],
   "source": [
    "# real world sim, restricting function access\n",
    "\n",
    "def login_required(func):\n",
    "    def wrap(user):\n",
    "        password = input(\"What is the password? \")\n",
    "        if password == user[\"password\"]:\n",
    "            func(user)\n",
    "        else:\n",
    "            print(\"Access Denied\")\n",
    "    \n",
    "    return wrap\n",
    "\n",
    "@login_required\n",
    "def restrictedFunc(user):\n",
    "    print(\"Access granted, welcome {}\".format(user[\"name\"]))\n",
    "    \n",
    "user = { \"name\": \"Jess\", \"password\": \"ilywpf\" }\n",
    "\n",
    "restrictedFunc(user)\n"
   ]
  },
  {
   "cell_type": "markdown",
   "id": "d2da3326",
   "metadata": {},
   "source": [
    "## Modules"
   ]
  },
  {
   "cell_type": "code",
   "execution_count": 12,
   "id": "8350d441",
   "metadata": {},
   "outputs": [
    {
     "name": "stdout",
     "output_type": "stream",
     "text": [
      "2\n",
      "3\n",
      "3.141592653589793\n"
     ]
    }
   ],
   "source": [
    "# import the entire math module\n",
    "import math\n",
    "\n",
    "print( math.floor(2.5) ) # rounds down\n",
    "print( math.ceil(2.5) )  # rounds up\n",
    "print(math.pi)"
   ]
  },
  {
   "cell_type": "code",
   "execution_count": 13,
   "id": "0e8db986",
   "metadata": {},
   "outputs": [
    {
     "name": "stdout",
     "output_type": "stream",
     "text": [
      "2\n",
      "3.141592653589793\n"
     ]
    }
   ],
   "source": [
    "# importing only variables and functions rather than an entire module, better efficiency\n",
    "from math import floor, pi\n",
    "\n",
    "print( floor(2.5) )\n",
    "# print( ceil(2.5) ) # will cause error because we only imported floor and pi, not ceil and not all of math\n",
    "print(pi)"
   ]
  },
  {
   "cell_type": "code",
   "execution_count": 14,
   "id": "94255edb",
   "metadata": {},
   "outputs": [
    {
     "name": "stdout",
     "output_type": "stream",
     "text": [
      "2\n"
     ]
    }
   ],
   "source": [
    "# using the 'as' keyword to create an alias for imports\n",
    "from math import floor as f\n",
    "\n",
    "print( f(2.5) )"
   ]
  },
  {
   "cell_type": "code",
   "execution_count": 15,
   "id": "36daf808",
   "metadata": {},
   "outputs": [
    {
     "name": "stdout",
     "output_type": "stream",
     "text": [
      "5 10\n",
      "Johnny Smith is 32 years old.\n"
     ]
    }
   ],
   "source": [
    "# using the run command with Jupyter Notebook to access our own modules\n",
    "\n",
    "%run test.py\n",
    "\n",
    "print(length, width)\n",
    "printInfo(\"Johnny Smith\", 32) # able to call from the module because we ran the file in Jupyter above"
   ]
  },
  {
   "cell_type": "markdown",
   "id": "b0f6ca07",
   "metadata": {},
   "source": [
    "## Understanding Algorithmic Complexity"
   ]
  },
  {
   "cell_type": "code",
   "execution_count": 16,
   "id": "5485394f",
   "metadata": {},
   "outputs": [],
   "source": [
    "# creating data collections to test for time complexity\n",
    "\n",
    "import time\n",
    "\n",
    "d = {}   # generate fake dictionary\n",
    "\n",
    "for i in range(10000000):\n",
    "    d[i] = \"value\"\n",
    "\n",
    "big_list = [ x for x in range(10000000)]  # generate fake list"
   ]
  },
  {
   "cell_type": "code",
   "execution_count": 21,
   "id": "08da7b68",
   "metadata": {},
   "outputs": [
    {
     "name": "stdout",
     "output_type": "stream",
     "text": [
      "Found in dictionary\n",
      "Elapsed time for dictionary: 0.0\n",
      "Found in list\n",
      "Elapsed time for list: 0.11399984359741211\n"
     ]
    }
   ],
   "source": [
    "# retrieving information and tracking time to see which is faster\n",
    "\n",
    "start_time = time.time()  # tracking time for dictionary\n",
    "\n",
    "if 9999999 in d:\n",
    "    print(\"Found in dictionary\")\n",
    "\n",
    "end_time = time.time() - start_time\n",
    "print( \"Elapsed time for dictionary: {}\".format(end_time))\n",
    "\n",
    "start_time = time.time()  # tracking time for list\n",
    "if 9999999 in big_list:\n",
    "    print(\"Found in list\")\n",
    "\n",
    "end_time = time.time() - start_time\n",
    "print(\"Elapsed time for list: {}\".format(end_time))"
   ]
  },
  {
   "cell_type": "code",
   "execution_count": 22,
   "id": "ee8d27ef",
   "metadata": {},
   "outputs": [],
   "source": [
    "# testing bubble sort vs insertion sort\n",
    "\n",
    "def bubbleSort(aList):\n",
    "    \n",
    "    for i in range( len(aList) ):\n",
    "        switched = False\n",
    "        \n",
    "        for j in range( len(aList) - 1 ):\n",
    "            if aList[j] > aList[i + 1]:\n",
    "                aList[j], aList[j + 1] = aList[j + 1], aList[j]\n",
    "                switched = True\n",
    "        \n",
    "        if switched == False:\n",
    "            break\n",
    "    \n",
    "    return aList\n",
    "\n",
    "\n",
    "def insertionSort(aList):\n",
    "    \n",
    "    for i in range( 1, len(aList) ):\n",
    "        if aList[i] < aList[i - 1]:\n",
    "            for j in range(1, 0, -1):\n",
    "                if aList[j] < aList[j - 1]:\n",
    "                    aList[j], aList[j + 1] = aList[j + 1], aList[j]\n",
    "                else:\n",
    "                    break\n",
    "                    \n",
    "    return aList"
   ]
  },
  {
   "cell_type": "code",
   "execution_count": 25,
   "id": "ff2b5c29",
   "metadata": {},
   "outputs": [
    {
     "name": "stdout",
     "output_type": "stream",
     "text": [
      "Elapsed time for Bubble Sort: 3.013044595718384\n",
      "Elapsed time for Insertion Sort: 0.0010061264038085938\n"
     ]
    }
   ],
   "source": [
    "# calling bubble sort and insertion sort to test time complexity\n",
    "from random import randint\n",
    "\n",
    "nums = [ randint(1, 100) for x in range(5000) ]\n",
    "\n",
    "start_time = time.time()  # tracking time bubble sort\n",
    "bubbleSort(nums)\n",
    "end_time = time.time() - start_time\n",
    "print(\"Elapsed time for Bubble Sort: {}\".format(end_time))\n",
    "\n",
    "start_time = time.time() # tracking time insertion sort\n",
    "insertionSort(nums)\n",
    "end_time = time.time() - start_time\n",
    "print(\"Elapsed time for Insertion Sort: {}\".format(end_time))\n"
   ]
  },
  {
   "cell_type": "code",
   "execution_count": null,
   "id": "fd8eec56",
   "metadata": {},
   "outputs": [],
   "source": []
  }
 ],
 "metadata": {
  "kernelspec": {
   "display_name": "Python 3",
   "language": "python",
   "name": "python3"
  },
  "language_info": {
   "codemirror_mode": {
    "name": "ipython",
    "version": 3
   },
   "file_extension": ".py",
   "mimetype": "text/x-python",
   "name": "python",
   "nbconvert_exporter": "python",
   "pygments_lexer": "ipython3",
   "version": "3.8.8"
  }
 },
 "nbformat": 4,
 "nbformat_minor": 5
}
