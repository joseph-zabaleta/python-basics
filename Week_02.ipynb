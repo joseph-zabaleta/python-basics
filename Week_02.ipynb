{
 "cells": [
  {
   "cell_type": "markdown",
   "id": "7f8f9e99",
   "metadata": {},
   "source": [
    "# Comments and Basic Data Types"
   ]
  },
  {
   "cell_type": "code",
   "execution_count": 1,
   "id": "3dea6caf",
   "metadata": {},
   "outputs": [],
   "source": [
    "# this is a comment"
   ]
  },
  {
   "cell_type": "code",
   "execution_count": 4,
   "id": "0ffd765f",
   "metadata": {},
   "outputs": [
    {
     "name": "stdout",
     "output_type": "stream",
     "text": [
      "Hello\n"
     ]
    }
   ],
   "source": [
    "print(\"Hello\") # this is also a comment (inline)"
   ]
  },
  {
   "cell_type": "code",
   "execution_count": 5,
   "id": "4a29f9a5",
   "metadata": {},
   "outputs": [
    {
     "name": "stdout",
     "output_type": "stream",
     "text": [
      "Hello\n"
     ]
    }
   ],
   "source": [
    "\"\"\"\n",
    "    This is a multi-Line comment using three opening / closing double quotes\n",
    "\"\"\"\n",
    "print(\"Hello\") # this is also a comment (inline)"
   ]
  },
  {
   "cell_type": "code",
   "execution_count": 6,
   "id": "ca5982ab",
   "metadata": {},
   "outputs": [],
   "source": [
    "# the following are all integers"
   ]
  },
  {
   "cell_type": "code",
   "execution_count": 7,
   "id": "9268a743",
   "metadata": {},
   "outputs": [
    {
     "name": "stdout",
     "output_type": "stream",
     "text": [
      "2\n",
      "10\n"
     ]
    }
   ],
   "source": [
    "print(2)\n",
    "print(10)"
   ]
  },
  {
   "cell_type": "code",
   "execution_count": 8,
   "id": "0461e058",
   "metadata": {},
   "outputs": [
    {
     "name": "stdout",
     "output_type": "stream",
     "text": [
      "10.953\n",
      "8.0\n"
     ]
    }
   ],
   "source": [
    "# the following are all floats\n",
    "print(10.953)\n",
    "print(8.0)      # even this number is a float"
   ]
  },
  {
   "cell_type": "code",
   "execution_count": 9,
   "id": "3d25f8e3",
   "metadata": {},
   "outputs": [],
   "source": [
    "# the following are booleans"
   ]
  },
  {
   "cell_type": "code",
   "execution_count": 10,
   "id": "eebfd2ab",
   "metadata": {},
   "outputs": [
    {
     "name": "stdout",
     "output_type": "stream",
     "text": [
      "True\n",
      "False\n"
     ]
    }
   ],
   "source": [
    "print(True)\n",
    "print(False)"
   ]
  },
  {
   "cell_type": "code",
   "execution_count": 12,
   "id": "31f73b8a",
   "metadata": {},
   "outputs": [
    {
     "name": "stdout",
     "output_type": "stream",
     "text": [
      " \n",
      "There's a snake in my boot!\n",
      "True\n"
     ]
    }
   ],
   "source": [
    "# the following are strings\n",
    "print(\" \")\n",
    "print(\"There's a snake in my boot!\")\n",
    "print('True')"
   ]
  },
  {
   "cell_type": "code",
   "execution_count": 19,
   "id": "ceecd90c",
   "metadata": {
    "scrolled": true
   },
   "outputs": [
    {
     "name": "stdout",
     "output_type": "stream",
     "text": [
      "Type checking\n"
     ]
    },
    {
     "data": {
      "text/plain": [
       "int"
      ]
     },
     "execution_count": 19,
     "metadata": {},
     "output_type": "execute_result"
    }
   ],
   "source": [
    "print('Type checking')\n",
    "type(2)"
   ]
  },
  {
   "cell_type": "markdown",
   "id": "1abef25e",
   "metadata": {},
   "source": [
    "# Variables"
   ]
  },
  {
   "cell_type": "code",
   "execution_count": 20,
   "id": "b430740b",
   "metadata": {},
   "outputs": [
    {
     "name": "stdout",
     "output_type": "stream",
     "text": [
      "5 8.4\n"
     ]
    }
   ],
   "source": [
    "num1 = 5             # storing an integer into a variable\n",
    "num2 = 8.4           # storing a float into a variable\n",
    "print(num1, num2)    # you can print multiple items using commas"
   ]
  },
  {
   "cell_type": "code",
   "execution_count": 22,
   "id": "fe1686cd",
   "metadata": {},
   "outputs": [
    {
     "name": "stdout",
     "output_type": "stream",
     "text": [
      "True\n"
     ]
    }
   ],
   "source": [
    "# storing a boolean into a variable\n",
    "switch = True\n",
    "print(switch)"
   ]
  },
  {
   "cell_type": "code",
   "execution_count": 23,
   "id": "32d0f313",
   "metadata": {},
   "outputs": [
    {
     "name": "stdout",
     "output_type": "stream",
     "text": [
      "John Smith 9\n"
     ]
    }
   ],
   "source": [
    "# storing strings into a variable\n",
    "name = 'John Smith'\n",
    "fav_number = '9'\n",
    "print(name, fav_number)  # will print 8 next to the name"
   ]
  },
  {
   "cell_type": "code",
   "execution_count": 24,
   "id": "43eca774",
   "metadata": {},
   "outputs": [
    {
     "name": "stdout",
     "output_type": "stream",
     "text": [
      "13.4\n"
     ]
    }
   ],
   "source": [
    "# using two variables to create another variable\n",
    "result = num1 + num2\n",
    "print(result)"
   ]
  },
  {
   "cell_type": "code",
   "execution_count": 25,
   "id": "adfba3c8",
   "metadata": {},
   "outputs": [
    {
     "name": "stdout",
     "output_type": "stream",
     "text": [
      "14.4\n",
      "72.0\n"
     ]
    }
   ],
   "source": [
    "# adding, deleting, multiplying, dividing from a variable\n",
    "result += 1 # same as saying result = result + 1\n",
    "print(result)\n",
    "\n",
    "result *= num1 # same as saying result = result * num1\n",
    "print(result)"
   ]
  },
  {
   "cell_type": "code",
   "execution_count": 26,
   "id": "0b42ec2d",
   "metadata": {},
   "outputs": [
    {
     "name": "stdout",
     "output_type": "stream",
     "text": [
      "John\n",
      "Sam\n"
     ]
    }
   ],
   "source": [
    "# defining a variable and overwriting it's value\n",
    "name = 'John'\n",
    "print(name)\n",
    "name = 'Sam'\n",
    "print(name)"
   ]
  },
  {
   "cell_type": "markdown",
   "id": "7229e747",
   "metadata": {},
   "source": [
    "##### Exercises\n",
    "1. Variable Output: Store the value 3 in a variable called “x” and the value 10 in a variable called “y”. Save the result of x * y into a separate variable called “result”.\n",
    "2. Area Calculation: Calculate the area of a 245.54” x 13.66” rectangle. Print out the result. HINT: Area is width multiplied by height."
   ]
  },
  {
   "cell_type": "code",
   "execution_count": 27,
   "id": "c46574bb",
   "metadata": {},
   "outputs": [
    {
     "name": "stdout",
     "output_type": "stream",
     "text": [
      "3 * 10 = 30\n"
     ]
    }
   ],
   "source": [
    "# Variable output\n",
    "x = 3\n",
    "y = 10\n",
    "result = x * y\n",
    "print(x, '*', y, '=', result)"
   ]
  },
  {
   "cell_type": "code",
   "execution_count": 30,
   "id": "1ebf1c72",
   "metadata": {},
   "outputs": [
    {
     "name": "stdout",
     "output_type": "stream",
     "text": [
      "The area of a rectangle with the width of 245.54 and a heigh of 13.66 is 3354.0764\n"
     ]
    }
   ],
   "source": [
    "# Area Calculation\n",
    "width = 245.54\n",
    "height = 13.66\n",
    "area = width * height\n",
    "\n",
    "print('The area of a rectangle with the width of', width, 'and a heigh of', height, 'is', area)"
   ]
  },
  {
   "cell_type": "markdown",
   "id": "f6543227",
   "metadata": {},
   "source": [
    "# Working with Strings"
   ]
  },
  {
   "cell_type": "code",
   "execution_count": 31,
   "id": "e886460c",
   "metadata": {},
   "outputs": [
    {
     "name": "stdout",
     "output_type": "stream",
     "text": [
      "John Smith\n"
     ]
    }
   ],
   "source": [
    "# using the addition operator without variables\n",
    "name = 'John' + ' ' + 'Smith'\n",
    "print(name)"
   ]
  },
  {
   "cell_type": "code",
   "execution_count": 33,
   "id": "81440a1a",
   "metadata": {},
   "outputs": [
    {
     "name": "stdout",
     "output_type": "stream",
     "text": [
      "John Smith\n"
     ]
    }
   ],
   "source": [
    "# using the addition operation with variables\n",
    "first_name = 'John'\n",
    "last_name = 'Smith'\n",
    "full_name = first_name + ' ' + last_name\n",
    "print(full_name)"
   ]
  },
  {
   "cell_type": "code",
   "execution_count": 34,
   "id": "4fe41c7b",
   "metadata": {},
   "outputs": [
    {
     "name": "stdout",
     "output_type": "stream",
     "text": [
      "Hello John\n",
      "Hello John, you are 28 years old!\n"
     ]
    }
   ],
   "source": [
    "# injecting variables using the format method\n",
    "name = 'John'\n",
    "print(\"Hello {}\".format(name))\n",
    "print(\"Hello {}, you are {} years old!\".format(name, 28))"
   ]
  },
  {
   "cell_type": "code",
   "execution_count": 36,
   "id": "be0538a5",
   "metadata": {},
   "outputs": [
    {
     "name": "stdout",
     "output_type": "stream",
     "text": [
      "Hello Johh\n"
     ]
    }
   ],
   "source": [
    "# using the new f strings >= Python 3.6\n",
    "name = 'Johh'\n",
    "print(f\"Hello {name}\")"
   ]
  },
  {
   "cell_type": "code",
   "execution_count": 37,
   "id": "6db0a1c6",
   "metadata": {},
   "outputs": [
    {
     "name": "stdout",
     "output_type": "stream",
     "text": [
      "Hello, John\n"
     ]
    }
   ],
   "source": [
    "# one major difference between version 2 & 3\n",
    "name = 'John'\n",
    "print('Hello, %s' % name)"
   ]
  },
  {
   "cell_type": "code",
   "execution_count": 38,
   "id": "1de4c3c3",
   "metadata": {},
   "outputs": [
    {
     "name": "stdout",
     "output_type": "stream",
     "text": [
      "Hello, John Smith\n"
     ]
    }
   ],
   "source": [
    "# python 2 multiple variable formatting\n",
    "first_name = 'John'\n",
    "last_name = 'Smith'\n",
    "print(\"Hello, %s %s\" % (first_name, last_name)) # surround the variables in parenthesis"
   ]
  },
  {
   "cell_type": "code",
   "execution_count": 39,
   "id": "95afca79",
   "metadata": {},
   "outputs": [
    {
     "name": "stdout",
     "output_type": "stream",
     "text": [
      "H\n",
      "e\n",
      "o\n"
     ]
    }
   ],
   "source": [
    "# using indexes to print each element\n",
    "word = \"Hello\"\n",
    "print(word[0]) # will output 'H'\n",
    "print(word[1]) # will output 'e'\n",
    "print(word[-1]) # will output 'o'"
   ]
  },
  {
   "cell_type": "code",
   "execution_count": 40,
   "id": "ec369aa3",
   "metadata": {},
   "outputs": [
    {
     "name": "stdout",
     "output_type": "stream",
     "text": [
      "He\n"
     ]
    }
   ],
   "source": [
    "# String slicing\n",
    "print( word [0:2])  # will output 'He'"
   ]
  },
  {
   "cell_type": "code",
   "execution_count": 41,
   "id": "e2eef46b",
   "metadata": {},
   "outputs": [
    {
     "name": "stdout",
     "output_type": "stream",
     "text": [
      "Hlo\n"
     ]
    }
   ],
   "source": [
    "# Syntax for slicing\n",
    "# variable_name[ start : stop : step ]\n",
    "print( word[ 0 : 5 : 2 ] ) # will output 'Hlo'"
   ]
  },
  {
   "cell_type": "markdown",
   "id": "6e9de1be",
   "metadata": {},
   "source": [
    "##### Exercises\n",
    "1. Variable Injection: Create a print statement that injects an integer, float, boolean, and string all into one line. The output should look like “23 4.5 False John”.\n",
    "\n",
    " \n",
    "2.\tFill in the Blanks: Using the format method, fill in the following blanks by assigning your name and favorite activities into variables:\n",
    "\n",
    "\"{ }'s favorite sports is { }.\"\n",
    "\n",
    "\"{ } is working on { } programming!\""
   ]
  },
  {
   "cell_type": "code",
   "execution_count": 76,
   "id": "48c524d0",
   "metadata": {},
   "outputs": [
    {
     "name": "stdout",
     "output_type": "stream",
     "text": [
      "23 4.5 False Riley\n"
     ]
    }
   ],
   "source": [
    "# Variable Injection\n",
    "print('{} {} {} {}'.format(23, 4.5, False, 'Riley'))"
   ]
  },
  {
   "cell_type": "code",
   "execution_count": 77,
   "id": "793ff956",
   "metadata": {},
   "outputs": [
    {
     "name": "stdout",
     "output_type": "stream",
     "text": [
      "Sam's favorite sport is pong\n",
      "Bob is working on python programming\n"
     ]
    }
   ],
   "source": [
    "# Fill in the Blanks\n",
    "print(\"{}'s favorite sport is {}\".format('Sam', 'pong'))\n",
    "print(\"{} is working on {} programming\".format('Bob', 'python'))"
   ]
  },
  {
   "cell_type": "markdown",
   "id": "960c5a92",
   "metadata": {},
   "source": [
    "# Manipulating Strings"
   ]
  },
  {
   "cell_type": "code",
   "execution_count": 47,
   "id": "52af2a87",
   "metadata": {},
   "outputs": [
    {
     "name": "stdout",
     "output_type": "stream",
     "text": [
      "John Smith\n"
     ]
    }
   ],
   "source": [
    "# using the title method to capitalize a string\n",
    "name = 'john smith'\n",
    "print(name.title())"
   ]
  },
  {
   "cell_type": "code",
   "execution_count": 49,
   "id": "28ef02f1",
   "metadata": {},
   "outputs": [
    {
     "name": "stdout",
     "output_type": "stream",
     "text": [
      "PIZZA\n",
      "boat\n"
     ]
    }
   ],
   "source": [
    "# upper and lower\n",
    "x = 'pizza'\n",
    "print(x.upper())\n",
    "y = 'BOAT'\n",
    "print(y.lower())"
   ]
  },
  {
   "cell_type": "code",
   "execution_count": 50,
   "id": "2ef4447d",
   "metadata": {},
   "outputs": [
    {
     "name": "stdout",
     "output_type": "stream",
     "text": [
      "Hello there.\n"
     ]
    }
   ],
   "source": [
    "# replacing an exclamation point with a period\n",
    "words = \"Hello there!\"\n",
    "print(words.replace(\"!\", \".\"))"
   ]
  },
  {
   "cell_type": "code",
   "execution_count": 51,
   "id": "bc920586",
   "metadata": {},
   "outputs": [
    {
     "name": "stdout",
     "output_type": "stream",
     "text": [
      "5\n"
     ]
    }
   ],
   "source": [
    "# find the starting index of our searched term\n",
    "s = 'Look over that way'\n",
    "print(s.find('over'))"
   ]
  },
  {
   "cell_type": "code",
   "execution_count": 52,
   "id": "2350327b",
   "metadata": {},
   "outputs": [
    {
     "name": "stdout",
     "output_type": "stream",
     "text": [
      "john\n"
     ]
    }
   ],
   "source": [
    "# removing white space with strip\n",
    "name = '    john     '\n",
    "print(name.strip())"
   ]
  },
  {
   "cell_type": "code",
   "execution_count": 53,
   "id": "697c8518",
   "metadata": {},
   "outputs": [
    {
     "name": "stdout",
     "output_type": "stream",
     "text": [
      "john     \n"
     ]
    }
   ],
   "source": [
    "# left strip\n",
    "print(name.lstrip())"
   ]
  },
  {
   "cell_type": "code",
   "execution_count": 55,
   "id": "0e4743da",
   "metadata": {},
   "outputs": [
    {
     "name": "stdout",
     "output_type": "stream",
     "text": [
      "    john\n"
     ]
    }
   ],
   "source": [
    "# right strip\n",
    "print(name.rstrip())"
   ]
  },
  {
   "cell_type": "code",
   "execution_count": 56,
   "id": "05daab27",
   "metadata": {},
   "outputs": [
    {
     "name": "stdout",
     "output_type": "stream",
     "text": [
      "['These', 'words', 'are', 'separated', 'by', 'spaces']\n"
     ]
    }
   ],
   "source": [
    "# converting a string into a list of words\n",
    "s = \"These words are separated by spaces\"\n",
    "print(s.split(\" \"))"
   ]
  },
  {
   "cell_type": "markdown",
   "id": "76300a9c",
   "metadata": {},
   "source": [
    "##### Exercises\n",
    "1.\tUppercasing: Try manipulating the string “uppercase” so it prints out as all uppercase letters. You’ll need to look up a new method.\n",
    "\n",
    " \n",
    "2.\tStrip Symbols: Strip all the dollar signs from the left side of this string “$$John Smith”. Try it with .lstrip( ) and .strip( ). To see a description on how to use the strip method further, try using the help function in Python by typing the following:\n",
    "\n",
    ">>> help(\" \".strip)"
   ]
  },
  {
   "cell_type": "code",
   "execution_count": 57,
   "id": "1d47fed0",
   "metadata": {},
   "outputs": [
    {
     "name": "stdout",
     "output_type": "stream",
     "text": [
      "uppercase\n",
      "UPPERCASE\n"
     ]
    }
   ],
   "source": [
    "# Uppercasing\n",
    "w = \"uppercase\"\n",
    "print(w)\n",
    "print(w.upper())"
   ]
  },
  {
   "cell_type": "code",
   "execution_count": 61,
   "id": "eb2efc71",
   "metadata": {},
   "outputs": [
    {
     "name": "stdout",
     "output_type": "stream",
     "text": [
      "$$John Smith\n",
      "John Smith\n",
      "John Smith\n"
     ]
    }
   ],
   "source": [
    "# Strip Symbols\n",
    "money_strip = '$$John Smith'\n",
    "print(money_strip)\n",
    "print(money_strip.strip('$$'))\n",
    "print(money_strip.lstrip('$$'))"
   ]
  },
  {
   "cell_type": "markdown",
   "id": "b71f3f01",
   "metadata": {},
   "source": [
    "# Project: Printing Receipts"
   ]
  },
  {
   "cell_type": "code",
   "execution_count": 75,
   "id": "45a45f39",
   "metadata": {},
   "outputs": [
    {
     "name": "stdout",
     "output_type": "stream",
     "text": [
      "**************************************************\n",
      "\t\tCoding Sauna, Inc.\n",
      "\t\t123 Main St.\n",
      "\t\tDallas, TX\n",
      "==================================================\n",
      "\tProduct Name\tProduct Price\n",
      "\tPen\t\t$99.78\n",
      "\tNotebook\t$578.99\n",
      "\tRuler\t\t$212.15\n",
      "==================================================\n",
      "\t\t\tTotal\n",
      "\t\t\t$890.92\n",
      "==================================================\n",
      "\n",
      "\tThanks for shopping with us today!\n",
      "\n",
      "**************************************************\n"
     ]
    }
   ],
   "source": [
    "# create a product and price for three items\n",
    "p1_name, p1_price = 'Pen', 99.78\n",
    "p2_name, p2_price = 'Notebook', 578.99\n",
    "p3_name, p3_price = 'Ruler', 212.15\n",
    "\n",
    "# create a company name and information\n",
    "company_name = 'coding sauna, inc.'\n",
    "company_address = '123 Main St.'\n",
    "company_city = 'Dallas, TX'\n",
    "\n",
    "# declare ending message\n",
    "message = 'Thanks for shopping with us today!'\n",
    "\n",
    "# create a top border\n",
    "print('*' * 50)\n",
    "\n",
    "# print company information first, using format\n",
    "print('\\t\\t{}'.format(company_name.title()))\n",
    "print('\\t\\t{}'.format(company_address))\n",
    "print('\\t\\t{}'.format(company_city))\n",
    "\n",
    "# print a divider between sections\n",
    "print('=' * 50)\n",
    "\n",
    "# print out header for section of items\n",
    "print('\\tProduct Name\\tProduct Price')\n",
    "\n",
    "# create a print statement for each product\n",
    "print('\\t{}\\t\\t${}'.format(p1_name.title(), p1_price))\n",
    "print('\\t{}\\t${}'.format(p2_name.title(), p2_price))\n",
    "print('\\t{}\\t\\t${}'.format(p3_name.title(), p3_price))\n",
    "\n",
    "# print a divider between sections\n",
    "print('=' * 50)\n",
    "\n",
    "# print out header for section of total\n",
    "print('\\t\\t\\tTotal')\n",
    "\n",
    "# calculate total price and print out\n",
    "total = p1_price + p2_price + p3_price\n",
    "print('\\t\\t\\t${}'.format(total))\n",
    "\n",
    "# print a divider between sections\n",
    "print('=' * 50)\n",
    "\n",
    "# output thank you message\n",
    "print('\\n\\t{}\\n'.format(message))\n",
    "\n",
    "# create a bottom border\n",
    "print('*' * 50)"
   ]
  },
  {
   "cell_type": "code",
   "execution_count": null,
   "id": "ae9d7c99",
   "metadata": {},
   "outputs": [],
   "source": []
  }
 ],
 "metadata": {
  "kernelspec": {
   "display_name": "Python 3",
   "language": "python",
   "name": "python3"
  },
  "language_info": {
   "codemirror_mode": {
    "name": "ipython",
    "version": 3
   },
   "file_extension": ".py",
   "mimetype": "text/x-python",
   "name": "python",
   "nbconvert_exporter": "python",
   "pygments_lexer": "ipython3",
   "version": "3.8.8"
  }
 },
 "nbformat": 4,
 "nbformat_minor": 5
}
