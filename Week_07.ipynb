{
 "cells": [
  {
   "cell_type": "markdown",
   "id": "e0b22a95",
   "metadata": {},
   "source": [
    "# Object-Oriented Programming"
   ]
  },
  {
   "cell_type": "markdown",
   "id": "686aa436",
   "metadata": {},
   "source": [
    "## Creating and Instantiating a Class"
   ]
  },
  {
   "cell_type": "code",
   "execution_count": 1,
   "id": "96b9ee35",
   "metadata": {},
   "outputs": [],
   "source": [
    "# creating your first class\n",
    "\n",
    "class Car():\n",
    "    pass # simply using as a placeholder until we add more code"
   ]
  },
  {
   "cell_type": "code",
   "execution_count": 2,
   "id": "55d75024",
   "metadata": {},
   "outputs": [
    {
     "name": "stdout",
     "output_type": "stream",
     "text": [
      "<__main__.Car object at 0x00000170011670A0>\n"
     ]
    }
   ],
   "source": [
    "# instantiating an object from a class\n",
    "\n",
    "class Car(): # parens are optional here\n",
    "    pass\n",
    "\n",
    "ford = Car() # creates an instance of the Car class and stores into the variable ford\n",
    "\n",
    "print(ford)"
   ]
  },
  {
   "cell_type": "code",
   "execution_count": 5,
   "id": "88ee5f98",
   "metadata": {},
   "outputs": [
    {
     "name": "stdout",
     "output_type": "stream",
     "text": [
      "98785388316\n",
      "98785388523\n"
     ]
    }
   ],
   "source": [
    "# instantiating multiple objects from the same class\n",
    "\n",
    "class Car:\n",
    "    pass\n",
    "\n",
    "ford = Car()\n",
    "subaru = Car() # creates another object from the car class\n",
    "print(hash(ford))\n",
    "print(hash(subaru)) # hash outputs a numerical representation of the location in memory for the variable"
   ]
  },
  {
   "cell_type": "markdown",
   "id": "0b0ad100",
   "metadata": {},
   "source": [
    "## Attributes"
   ]
  },
  {
   "cell_type": "code",
   "execution_count": 6,
   "id": "70a122fc",
   "metadata": {},
   "outputs": [
    {
     "name": "stdout",
     "output_type": "stream",
     "text": [
      "red\n"
     ]
    }
   ],
   "source": [
    "# how to define a class attribute\n",
    "\n",
    "class Car():\n",
    "    sound = 'beep'    # all car objects will have this sound attribute and its' value\n",
    "    color = 'red'     # all car objects will have this color attribute and its' value\n",
    "    \n",
    "ford = Car()\n",
    "\n",
    "print(ford.color)    # known as 'dot syntax'"
   ]
  },
  {
   "cell_type": "code",
   "execution_count": 9,
   "id": "2b983752",
   "metadata": {},
   "outputs": [
    {
     "name": "stdout",
     "output_type": "stream",
     "text": [
      "beep\n",
      "honk\n"
     ]
    }
   ],
   "source": [
    "# changing the value of an attribute\n",
    "class Car:\n",
    "    sound = 'beep'\n",
    "    color = 'red'\n",
    "    \n",
    "ford = Car()\n",
    "print(ford.sound)        # will output 'beep'\n",
    "ford.sound = 'honk'     # from now on the value of fords sound is honk, this does not affect other instances\n",
    "print(ford.sound)       # will output 'honk'"
   ]
  },
  {
   "cell_type": "code",
   "execution_count": 10,
   "id": "ffe660bc",
   "metadata": {},
   "outputs": [
    {
     "name": "stdout",
     "output_type": "stream",
     "text": [
      "blue\n"
     ]
    }
   ],
   "source": [
    "# using the init method to give instances personalized attributes upon creation\n",
    "\n",
    "class Car():\n",
    "    def __init__(self, color):\n",
    "        self.color = color         # sets the attribute color to the value passed in\n",
    "        \n",
    "ford = Car('blue')                 # instantiating a Car class with the color blue\n",
    "print(ford.color)"
   ]
  },
  {
   "cell_type": "code",
   "execution_count": 11,
   "id": "179edbf3",
   "metadata": {},
   "outputs": [
    {
     "name": "stdout",
     "output_type": "stream",
     "text": [
      "blue 2016\n",
      "red 2018\n"
     ]
    }
   ],
   "source": [
    "# defining different values for multiple instances\n",
    "class Car():\n",
    "    def __init__(self, color, year):\n",
    "        self.color = color \n",
    "        self.year = year\n",
    "ford = Car('blue', 2016)\n",
    "subaru = Car('red', 2018)\n",
    "\n",
    "print(ford.color, ford.year)\n",
    "print(subaru.color, subaru.year)"
   ]
  },
  {
   "cell_type": "code",
   "execution_count": 19,
   "id": "e9e7f9d8",
   "metadata": {},
   "outputs": [
    {
     "name": "stdout",
     "output_type": "stream",
     "text": [
      "beep\n",
      "beep blue\n"
     ]
    }
   ],
   "source": [
    "# using and accessing global class attributes\n",
    "\n",
    "class Car():\n",
    "    sound = 'beep' # global attribute, accessible through the class itself\n",
    "    \n",
    "    def __init__(self, color):\n",
    "        self.color = 'blue' # instance specific attribute, not accessible through the class itself\n",
    "\n",
    "print(Car.sound)\n",
    "# print(Car.color) # won't work, as color is only available to instances of the Car class, not the class itself\n",
    "\n",
    "ford = Car('blue')\n",
    "print(ford.sound, ford.color)"
   ]
  },
  {
   "cell_type": "markdown",
   "id": "eb6dc0fc",
   "metadata": {},
   "source": [
    "## Methods"
   ]
  },
  {
   "cell_type": "code",
   "execution_count": 20,
   "id": "39cfecdf",
   "metadata": {},
   "outputs": [
    {
     "name": "stdout",
     "output_type": "stream",
     "text": [
      "bark\n"
     ]
    }
   ],
   "source": [
    "# defining and calling our first class method\n",
    "\n",
    "class Dog():\n",
    "    def makeSound(self):\n",
    "        print('bark')\n",
    "\n",
    "sam = Dog()\n",
    "sam.makeSound()"
   ]
  },
  {
   "cell_type": "code",
   "execution_count": 21,
   "id": "284322e1",
   "metadata": {},
   "outputs": [
    {
     "name": "stdout",
     "output_type": "stream",
     "text": [
      "bark\n"
     ]
    }
   ],
   "source": [
    "# using the self keyword to access attributes within class methods\n",
    "\n",
    "class Dog:\n",
    "    sound = 'bark'\n",
    "    def makeSound(self):\n",
    "        print(self.sound) # self required to access attributes defined in the class\n",
    "        \n",
    "sam = Dog()\n",
    "sam.makeSound()"
   ]
  },
  {
   "cell_type": "code",
   "execution_count": 22,
   "id": "91c2a8f6",
   "metadata": {},
   "outputs": [
    {
     "name": "stdout",
     "output_type": "stream",
     "text": [
      "I am a dog.\n",
      "bark\n"
     ]
    }
   ],
   "source": [
    "# understanding which methods are accessible via the class itself and class instances\n",
    "\n",
    "class Dog():\n",
    "    sound = 'bark'\n",
    "    def makeSound(self):\n",
    "        print(self.sound)\n",
    "    \n",
    "    def printInfo():\n",
    "        print(\"I am a dog.\")\n",
    "\n",
    "Dog.printInfo()     # able to run printInfo method because it does not include self parameter\n",
    "# Dog.makeSound()   # would produce error, self is in reference to instances only\n",
    "sam = Dog()\n",
    "sam.makeSound()     # able to access, self can reference the instance of sam\n",
    "# sam.printInfo()   # will produce error, instances require the self parameter to access methods"
   ]
  },
  {
   "cell_type": "code",
   "execution_count": 23,
   "id": "ab0dbe6d",
   "metadata": {},
   "outputs": [
    {
     "name": "stdout",
     "output_type": "stream",
     "text": [
      "6\n"
     ]
    }
   ],
   "source": [
    "# writing methods that accept parameters\n",
    "\n",
    "class Dog:\n",
    "    def showAge(self, age):\n",
    "        print(age)  # does not need self, age is referencing the parameter not an attribute\n",
    "\n",
    "sam = Dog()\n",
    "sam.showAge(6)      # passing the integer 6 as an argument to the showAge method\n"
   ]
  },
  {
   "cell_type": "code",
   "execution_count": 24,
   "id": "41f7ce62",
   "metadata": {},
   "outputs": [
    {
     "name": "stdout",
     "output_type": "stream",
     "text": [
      "Sammi\n"
     ]
    }
   ],
   "source": [
    "# using methods to set or return attribute balues, proper programming practice\n",
    "\n",
    "class Dog():    \n",
    "    name = '' # would normally use init method to declare, this is for testing purposes\n",
    "    \n",
    "    def setName(self, new_name):\n",
    "        self.name = new_name         # declares the new value for the name attribute\n",
    "        \n",
    "    def getName(self):\n",
    "        return self.name            # returns the value of the name attribute\n",
    "\n",
    "sam = Dog()\n",
    "sam.setName(\"Sammi\")\n",
    "print(sam.getName())        # prints the returned value of self.name"
   ]
  },
  {
   "cell_type": "code",
   "execution_count": 25,
   "id": "c8f19784",
   "metadata": {},
   "outputs": [
    {
     "name": "stdout",
     "output_type": "stream",
     "text": [
      "6\n"
     ]
    }
   ],
   "source": [
    "# incrementing/decrementing attribute values with methods, best programming practice\n",
    "\n",
    "class Dog():\n",
    "    age = 5\n",
    "    \n",
    "    def happyBirthday(self):\n",
    "        self.age += 1\n",
    "\n",
    "sam = Dog()\n",
    "sam.happyBirthday()     # calls method to increment value by one\n",
    "print(sam.age)          # better practice use getters, this is for testing purposes"
   ]
  },
  {
   "cell_type": "code",
   "execution_count": 26,
   "id": "a9e2d824",
   "metadata": {},
   "outputs": [
    {
     "name": "stdout",
     "output_type": "stream",
     "text": [
      "Puppy!\n"
     ]
    }
   ],
   "source": [
    "# calling a class method from another method\n",
    "\n",
    "class Dog():\n",
    "    age = 6\n",
    "    \n",
    "    def getAge(self):\n",
    "        return self.age\n",
    "    \n",
    "    def printInfo(self):\n",
    "        if self.getAge() < 10:    # need self to call other method for an instance\n",
    "            print(\"Puppy!\")\n",
    "\n",
    "sam = Dog()\n",
    "sam.printInfo()"
   ]
  },
  {
   "cell_type": "code",
   "execution_count": 27,
   "id": "d8a00768",
   "metadata": {},
   "outputs": [
    {
     "name": "stdout",
     "output_type": "stream",
     "text": [
      "This is a dog class\n"
     ]
    }
   ],
   "source": [
    "# using magic methods\n",
    "\n",
    "class Dog:\n",
    "    def __str__(self):\n",
    "        return \"This is a dog class\"\n",
    "\n",
    "sam = Dog()\n",
    "print(sam)     # will print the return of the string magic method"
   ]
  },
  {
   "cell_type": "markdown",
   "id": "6d8dbda7",
   "metadata": {},
   "source": [
    "## Inheritance"
   ]
  },
  {
   "cell_type": "code",
   "execution_count": 28,
   "id": "0f2bd966",
   "metadata": {},
   "outputs": [
    {
     "name": "stdout",
     "output_type": "stream",
     "text": [
      "roar\n"
     ]
    }
   ],
   "source": [
    "# inheriting a class and accessing the inherited method\n",
    "\n",
    "class Animal():\n",
    "    def makeSound(self):\n",
    "        print(\"roar\")\n",
    "\n",
    "class Dog(Animal):    # inheriting Animal Class\n",
    "    specicies = \"Canine\"\n",
    "\n",
    "sam = Dog()\n",
    "sam.makeSound()       # accesible through inheritance\n",
    "\n",
    "lion = Animal()\n",
    "\n",
    "# lion.specicies # not accessible, inheritance does not work backwards"
   ]
  },
  {
   "cell_type": "code",
   "execution_count": 29,
   "id": "a9f1d883",
   "metadata": {},
   "outputs": [
    {
     "name": "stdout",
     "output_type": "stream",
     "text": [
      "Canine\n"
     ]
    }
   ],
   "source": [
    "# using the super() method to declare inherited attributes\n",
    "\n",
    "class Animal:\n",
    "    def __init__(self, species):\n",
    "        self.species = species\n",
    "\n",
    "class Dog(Animal):\n",
    "    def __init__(self, species, name):\n",
    "        self.name = name\n",
    "        super().__init__(species)    # using super to declare the species attribute defined in Animal\n",
    "        \n",
    "sam = Dog(\"Canine\", \"Sammi\")\n",
    "print(sam.species)"
   ]
  },
  {
   "cell_type": "code",
   "execution_count": 30,
   "id": "c274ea3e",
   "metadata": {},
   "outputs": [
    {
     "name": "stdout",
     "output_type": "stream",
     "text": [
      "bark\n",
      "roar\n"
     ]
    }
   ],
   "source": [
    "# overriding methods defined in the superclass\n",
    "\n",
    "class Animal:\n",
    "    def makeSound(self):\n",
    "        print(\"roar\")\n",
    "\n",
    "class Dog(Animal):\n",
    "    def makeSound(self):\n",
    "        print(\"bark\")\n",
    "        \n",
    "sam, lion = Dog(), Animal()      # declaring multiple variables on a single line\n",
    "sam.makeSound()   # overriding will call the makeSound method in Dog\n",
    "lion.makeSound()  # no overriding occurs as Animal does not inherit anything"
   ]
  },
  {
   "cell_type": "code",
   "execution_count": 31,
   "id": "21aeb4cc",
   "metadata": {},
   "outputs": [
    {
     "name": "stdout",
     "output_type": "stream",
     "text": [
      "9.8 Ford\n"
     ]
    }
   ],
   "source": [
    "# how to inherit multiple classes\n",
    "\n",
    "class Physics():\n",
    "    gravity = 9.8\n",
    "\n",
    "class Automobile():\n",
    "    def __init__(self, make, model, year):\n",
    "        self.make, self.model, self.year = make, model, year    # declaring all attributes on one line\n",
    "        \n",
    "class Ford(Physics, Automobile): # able to access Physics and Automobile attributes and methods\n",
    "    def __init__(self, model, year):\n",
    "        Automobile.__init__(self, \"Ford\", model, year) # super does not work with multiple\n",
    "        \n",
    "truck = Ford(\"F-150\", 2018)\n",
    "print(truck.gravity, truck.make)   # output both attributes"
   ]
  },
  {
   "cell_type": "markdown",
   "id": "9e4ac19e",
   "metadata": {},
   "source": [
    "## Project: Creating Blackjack"
   ]
  },
  {
   "cell_type": "code",
   "execution_count": 57,
   "id": "d6fc3728",
   "metadata": {},
   "outputs": [
    {
     "name": "stdout",
     "output_type": "stream",
     "text": [
      "\n",
      "Joe\n",
      "===========\n",
      "K of Diamonds\n",
      "J of Clubs\n",
      "Total = 20\n",
      "\n",
      "Dealer\n",
      "===========\n",
      "A of Diamonds\n",
      "J of Diamonds\n",
      "Total = 21\n",
      "Dealer has higher cards, you lose!\n"
     ]
    }
   ],
   "source": [
    "# importing necessary functions\n",
    "from random import randint     # allows us to get a random number\n",
    "from IPython.display import clear_output\n",
    "\n",
    "# create the blackjack class, which will hold all game methods and attributes\n",
    "class Blackjack():\n",
    "    def __init__(self):\n",
    "        self.deck = []     # set to an empty list\n",
    "        self.suits = (\"Spades\", \"Hearts\", \"Diamonds\", \"Clubs\")\n",
    "        self.values = (2, 3, 4, 5, 6, 7, 8, 9, 10, \"J\", \"Q\", \"K\", \"A\")\n",
    "        \n",
    "    # create a method that creates a deck of 52 cards, each card should be a tuple with a value and suit\n",
    "    def makeDeck(self):\n",
    "        for suit in self.suits:\n",
    "            for value in self.values:\n",
    "                self.deck.append( (value, suit) )    # ex: (7, \"Hearts\")\n",
    "                \n",
    "    # method to pop a card from deck using a random index value\n",
    "    def pullCard(self):\n",
    "        return self.deck.pop( randint(0, len(self.deck) -1) )\n",
    "    \n",
    "# create a class for the dealer and player objects\n",
    "class Player():\n",
    "    def __init__(self, name):\n",
    "        self.name = name\n",
    "        self.hand = []\n",
    "        \n",
    "    # take in a tuple and append it to the hand\n",
    "    def addCard(self, card):\n",
    "        self.hand.append(card)\n",
    "        \n",
    "    # if not dealer's turn then only show one of his cards, otherwise show all\n",
    "    def showHand(self, dealer_start = True):\n",
    "        print(\"\\n{}\".format(self.name))\n",
    "        print(\"===========\")\n",
    "        \n",
    "        for i in range( len(self.hand) ):\n",
    "            if self.name == \"Dealer\" and i == 0 and dealer_start:\n",
    "                print(\"- of -\") # hide first card\n",
    "            else:\n",
    "                card = self.hand[i]\n",
    "                print(\"{} of {}\".format(card[0], card[1]))\n",
    "        print(\"Total = {}\".format(self.calcHand(dealer_start)))\n",
    "            \n",
    "    # if not dealer's turn then only give back total of second card\n",
    "    def calcHand(self, dealer_start = True):\n",
    "        total = 0\n",
    "        aces = 0 # calculate aces afterwards\n",
    "        card_values = {1:1, 2:2, 3:3, 4:4, 5:5, 6:6, 7:7, 8:8, 9:9, 10:10, \"J\":10, \"Q\":10, \"K\":10, \"A\": 11}\n",
    "        \n",
    "        if self.name == \"Dealer\" and dealer_start:\n",
    "            card = self.hand[1]\n",
    "            return card_values[card[0]]\n",
    "        \n",
    "        for card in self.hand:\n",
    "            if card[0] == \"A\":\n",
    "                aces += 1\n",
    "            else:\n",
    "                total += card_values[ card[0] ]\n",
    "        \n",
    "        for i in range(aces):\n",
    "            if total + 11 > 21:\n",
    "                total += 1\n",
    "            else:\n",
    "                total += 11\n",
    "        \n",
    "        return total\n",
    "\n",
    "game = Blackjack()\n",
    "game.makeDeck()\n",
    "\n",
    "name = input(\"What is your name? \")\n",
    "player = Player(name)\n",
    "dealer = Player(\"Dealer\")\n",
    "\n",
    "# add two cards to the dealer and player hand\n",
    "for i in range(2):\n",
    "    player.addCard( game.pullCard() )\n",
    "    dealer.addCard( game.pullCard() )\n",
    "    \n",
    "# show both hands using method\n",
    "player.showHand()\n",
    "dealer.showHand()\n",
    "\n",
    "player_bust = False  # variable to keep track of player going over 21\n",
    "\n",
    "while input(\"Would you like to stay or hit? \").lower() != \"stay\":\n",
    "    clear_output()\n",
    "    \n",
    "    # pull card and put into player's hand\n",
    "    player.addCard( game.pullCard() )\n",
    "    \n",
    "    # show both hands using method\n",
    "    player.showHand()\n",
    "    dealer.showHand()\n",
    "    \n",
    "    # check if over 21\n",
    "    if player.calcHand() > 21:\n",
    "        player_bust = True    # player busted, keep track for later\n",
    "        break # breaks out of the player's loop\n",
    "\n",
    "# handling the dealer's turn, only run if player didn't bust\n",
    "dealer_bust = False\n",
    "\n",
    "if not player_bust:\n",
    "    while dealer.calcHand(False) < 17:      # pass False to calculate all cards\n",
    "        # pull card and put into player's hand\n",
    "        dealer.addCard( game.pullCard() )\n",
    "        \n",
    "        # check if over 21\n",
    "        if dealer.calcHand(False) > 21:    # pass False to calculate all cards\n",
    "            dealer_bust = True\n",
    "            break # breaks out of the dealer's loop\n",
    "\n",
    "clear_output()\n",
    "\n",
    "# show both hands using methods\n",
    "player.showHand()\n",
    "dealer.showHand(False)  # pass False to calculate and show all cards, even when there are 2\n",
    "\n",
    "# calculate a winner\n",
    "if player_bust:\n",
    "    print(\"You busted, better luck next time!\")\n",
    "elif dealer_bust:\n",
    "    print(\"The dealer busted, you win!\")\n",
    "elif dealer.calcHand(False) > player.calcHand():\n",
    "    print(\"Dealer has higher cards, you lose!\")\n",
    "elif dealer.calcHand(False) < player.calcHand():\n",
    "    print(\"You beat the dealer! Congrats!\")\n",
    "else:\n",
    "    print(\"You pushed, no one wins!\")"
   ]
  },
  {
   "cell_type": "code",
   "execution_count": null,
   "id": "55da9884",
   "metadata": {},
   "outputs": [],
   "source": []
  }
 ],
 "metadata": {
  "kernelspec": {
   "display_name": "Python 3",
   "language": "python",
   "name": "python3"
  },
  "language_info": {
   "codemirror_mode": {
    "name": "ipython",
    "version": 3
   },
   "file_extension": ".py",
   "mimetype": "text/x-python",
   "name": "python",
   "nbconvert_exporter": "python",
   "pygments_lexer": "ipython3",
   "version": "3.8.8"
  }
 },
 "nbformat": 4,
 "nbformat_minor": 5
}
